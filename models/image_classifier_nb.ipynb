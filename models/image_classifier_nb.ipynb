{
 "cells": [
  {
   "cell_type": "markdown",
   "metadata": {},
   "source": [
    "# Tree species image classification using Artificial Neural Networks"
   ]
  },
  {
   "cell_type": "code",
   "execution_count": null,
   "metadata": {},
   "outputs": [],
   "source": [
    "import tensorflow as tf\n",
    "from tensorflow.keras.preprocessing.image import ImageDataGenerator\n",
    "from tensorflow.keras.models import Sequential\n",
    "from tensorflow.keras.layers import Dense, Conv2D, Flatten, Dropout, MaxPooling2D\n",
    "import os\n",
    "import matplotlib.pyplot as plt\n",
    "from data.config import species_list"
   ]
  },
  {
   "cell_type": "markdown",
   "metadata": {},
   "source": [
    "## Configuration"
   ]
  },
  {
   "cell_type": "code",
   "execution_count": null,
   "metadata": {},
   "outputs": [],
   "source": [
    "    # Data sets directories\n",
    "    train_dir = sid.train_dir\n",
    "    val_dir = sid.val_dir\n",
    "    test_dir = sid.test_dir\n",
    "    ############################################\n",
    "    # Parameters configured in ImageGenerator \n",
    "    color_mode= ig.color_mode\n",
    "    img_height = ig.img_height\n",
    "    img_width = ig.img_width  \n",
    "    class_mode= ig.class_mode\n",
    "    batch_size = ig.batch_size\n",
    "    epochs = ig.epochs                                   \n",
    "    shuffle = ig.shuffle                                                             \n",
    "    seed = ig.seed\n",
    "    # Parameters for test dataset \n",
    "    test_batch_size = 1\n",
    "\n",
    "    ########################################\n",
    "    # LABELS\n",
    "    class_names = sorted(species_list.species_list)"
   ]
  }
 ],
 "metadata": {
  "language_info": {
   "codemirror_mode": {
    "name": "ipython",
    "version": 3
   },
   "file_extension": ".py",
   "mimetype": "text/x-python",
   "name": "python",
   "nbconvert_exporter": "python",
   "pygments_lexer": "ipython3",
   "version": 3
  },
  "orig_nbformat": 2
 },
 "nbformat": 4,
 "nbformat_minor": 2
}