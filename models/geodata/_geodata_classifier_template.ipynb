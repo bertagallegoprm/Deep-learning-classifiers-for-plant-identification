{
 "cells": [
  {
   "cell_type": "markdown",
   "metadata": {},
   "source": [
    "# Template"
   ]
  },
  {
   "cell_type": "code",
   "execution_count": 37,
   "metadata": {},
   "outputs": [],
   "source": [
    "import os\n",
    "import random\n",
    "import numpy as np\n",
    "import matplotlib.pyplot as plt\n",
    "import pandas as pd\n",
    "import descartes\n",
    "import geopandas as gpd\n",
    "import shapely\n",
    "from shapely.geometry import Point, Polygon\n",
    "from shapely import geometry"
   ]
  },
  {
   "cell_type": "code",
   "execution_count": 30,
   "metadata": {},
   "outputs": [],
   "source": [
    "import numpy as np\n",
    "import matplotlib.pyplot as plt\n",
    "import matplotlib.ticker as plticker\n",
    "from tensorflow import keras\n",
    "from tensorflow.keras.models import Sequential\n",
    "import tensorflow.keras.layers as layers\n",
    "from tensorflow.keras.layers import Dense  \n",
    "from tensorflow.keras.layers import Dropout\n",
    "from tensorflow.keras.utils import to_categorical"
   ]
  },
  {
   "cell_type": "code",
   "execution_count": 63,
   "metadata": {},
   "outputs": [],
   "source": [
    "from sklearn.model_selection import train_test_split\n",
    "from sklearn.preprocessing import normalize\n",
    "from sklearn import preprocessing"
   ]
  },
  {
   "cell_type": "markdown",
   "metadata": {},
   "source": [
    "## Getting and describing the data"
   ]
  },
  {
   "cell_type": "code",
   "execution_count": 13,
   "metadata": {},
   "outputs": [],
   "source": [
    "def get_local_repository_path(repository_name):\n",
    "    \"\"\"\n",
    "    Return local absolute path from home directory\n",
    "    to the repository folder (including it).\n",
    "    Arg.: Name of the repository.\n",
    "    \"\"\"\n",
    "    wd_path = os.getcwd()\n",
    "    split_wd_path = wd_path.split(\"/\")\n",
    "    tfm_position = split_wd_path.index(repository_name)\n",
    "    local_path_split = split_wd_path[:tfm_position+1]\n",
    "    return \"/\".join(local_path_split)"
   ]
  },
  {
   "cell_type": "code",
   "execution_count": 14,
   "metadata": {},
   "outputs": [],
   "source": [
    "# CONFIGURE\n",
    "local_path = get_local_repository_path(\"tfm\")\n",
    "model_name = \"example\""
   ]
  },
  {
   "cell_type": "code",
   "execution_count": 15,
   "metadata": {},
   "outputs": [],
   "source": [
    "# OUTPUTS\n",
    "save_dir = os.path.join(os.path.abspath(os.getcwd()), \"outputs\", model_name)\n",
    "# Create outputs folder\n",
    "if not os.path.exists(save_dir):\n",
    "    os.makedirs(save_dir, exist_ok=True)"
   ]
  },
  {
   "cell_type": "code",
   "execution_count": 26,
   "metadata": {
    "scrolled": false
   },
   "outputs": [
    {
     "data": {
      "text/html": [
       "<div>\n",
       "<style scoped>\n",
       "    .dataframe tbody tr th:only-of-type {\n",
       "        vertical-align: middle;\n",
       "    }\n",
       "\n",
       "    .dataframe tbody tr th {\n",
       "        vertical-align: top;\n",
       "    }\n",
       "\n",
       "    .dataframe thead th {\n",
       "        text-align: right;\n",
       "    }\n",
       "</style>\n",
       "<table border=\"1\" class=\"dataframe\">\n",
       "  <thead>\n",
       "    <tr style=\"text-align: right;\">\n",
       "      <th></th>\n",
       "      <th>species_name</th>\n",
       "      <th>latitude</th>\n",
       "      <th>longitude</th>\n",
       "      <th>coordinate_uncertainty</th>\n",
       "    </tr>\n",
       "  </thead>\n",
       "  <tbody>\n",
       "    <tr>\n",
       "      <th>0</th>\n",
       "      <td>Alnus glutinosa</td>\n",
       "      <td>53.523295</td>\n",
       "      <td>-2.630142</td>\n",
       "      <td>6.0</td>\n",
       "    </tr>\n",
       "    <tr>\n",
       "      <th>1</th>\n",
       "      <td>Alnus glutinosa</td>\n",
       "      <td>53.037265</td>\n",
       "      <td>-0.825083</td>\n",
       "      <td>5.0</td>\n",
       "    </tr>\n",
       "    <tr>\n",
       "      <th>2</th>\n",
       "      <td>Alnus glutinosa</td>\n",
       "      <td>53.778151</td>\n",
       "      <td>-2.215379</td>\n",
       "      <td>3.0</td>\n",
       "    </tr>\n",
       "    <tr>\n",
       "      <th>3</th>\n",
       "      <td>Alnus glutinosa</td>\n",
       "      <td>53.552534</td>\n",
       "      <td>-2.627071</td>\n",
       "      <td>899.0</td>\n",
       "    </tr>\n",
       "    <tr>\n",
       "      <th>4</th>\n",
       "      <td>Alnus glutinosa</td>\n",
       "      <td>53.040065</td>\n",
       "      <td>-0.821489</td>\n",
       "      <td>5.0</td>\n",
       "    </tr>\n",
       "  </tbody>\n",
       "</table>\n",
       "</div>"
      ],
      "text/plain": [
       "      species_name   latitude  longitude  coordinate_uncertainty\n",
       "0  Alnus glutinosa  53.523295  -2.630142                     6.0\n",
       "1  Alnus glutinosa  53.037265  -0.825083                     5.0\n",
       "2  Alnus glutinosa  53.778151  -2.215379                     3.0\n",
       "3  Alnus glutinosa  53.552534  -2.627071                   899.0\n",
       "4  Alnus glutinosa  53.040065  -0.821489                     5.0"
      ]
     },
     "execution_count": 26,
     "metadata": {},
     "output_type": "execute_result"
    }
   ],
   "source": [
    "# DATA SET DIRECTORY\n",
    "source_dir = \"data/geodata/preprocessing\"\n",
    "# Importing the dataset\n",
    "dataset = pd.read_csv(os.path.join(local_path, source_dir, \"filtered_coordinates.csv\"))\n",
    "dataset[:5]"
   ]
  },
  {
   "cell_type": "code",
   "execution_count": 55,
   "metadata": {
    "scrolled": true
   },
   "outputs": [
    {
     "data": {
      "text/html": [
       "<div>\n",
       "<style scoped>\n",
       "    .dataframe tbody tr th:only-of-type {\n",
       "        vertical-align: middle;\n",
       "    }\n",
       "\n",
       "    .dataframe tbody tr th {\n",
       "        vertical-align: top;\n",
       "    }\n",
       "\n",
       "    .dataframe thead th {\n",
       "        text-align: right;\n",
       "    }\n",
       "</style>\n",
       "<table border=\"1\" class=\"dataframe\">\n",
       "  <thead>\n",
       "    <tr style=\"text-align: right;\">\n",
       "      <th></th>\n",
       "      <th>species_name</th>\n",
       "      <th>latitude</th>\n",
       "      <th>longitude</th>\n",
       "    </tr>\n",
       "  </thead>\n",
       "  <tbody>\n",
       "    <tr>\n",
       "      <th>0</th>\n",
       "      <td>Alnus glutinosa</td>\n",
       "      <td>53.523295</td>\n",
       "      <td>-2.630142</td>\n",
       "    </tr>\n",
       "    <tr>\n",
       "      <th>1</th>\n",
       "      <td>Alnus glutinosa</td>\n",
       "      <td>53.037265</td>\n",
       "      <td>-0.825083</td>\n",
       "    </tr>\n",
       "    <tr>\n",
       "      <th>2</th>\n",
       "      <td>Alnus glutinosa</td>\n",
       "      <td>53.778151</td>\n",
       "      <td>-2.215379</td>\n",
       "    </tr>\n",
       "    <tr>\n",
       "      <th>3</th>\n",
       "      <td>Alnus glutinosa</td>\n",
       "      <td>53.552534</td>\n",
       "      <td>-2.627071</td>\n",
       "    </tr>\n",
       "    <tr>\n",
       "      <th>4</th>\n",
       "      <td>Alnus glutinosa</td>\n",
       "      <td>53.040065</td>\n",
       "      <td>-0.821489</td>\n",
       "    </tr>\n",
       "  </tbody>\n",
       "</table>\n",
       "</div>"
      ],
      "text/plain": [
       "      species_name   latitude  longitude\n",
       "0  Alnus glutinosa  53.523295  -2.630142\n",
       "1  Alnus glutinosa  53.037265  -0.825083\n",
       "2  Alnus glutinosa  53.778151  -2.215379\n",
       "3  Alnus glutinosa  53.552534  -2.627071\n",
       "4  Alnus glutinosa  53.040065  -0.821489"
      ]
     },
     "execution_count": 55,
     "metadata": {},
     "output_type": "execute_result"
    }
   ],
   "source": [
    "dataset = dataset.drop(columns=\"coordinate_uncertainty\")\n",
    "dataset[:5]"
   ]
  },
  {
   "cell_type": "code",
   "execution_count": 56,
   "metadata": {},
   "outputs": [
    {
     "data": {
      "text/plain": [
       "<matplotlib.axes._subplots.AxesSubplot at 0x7f23bc109780>"
      ]
     },
     "execution_count": 56,
     "metadata": {},
     "output_type": "execute_result"
    },
    {
     "data": {
      "image/png": "[encoded data removed]",
      "text/plain": [
       "<Figure size 432x288 with 1 Axes>"
      ]
     },
     "metadata": {
      "needs_background": "light"
     },
     "output_type": "display_data"
    }
   ],
   "source": [
    "dataset.boxplot()"
   ]
  },
  {
   "cell_type": "code",
   "execution_count": 69,
   "metadata": {},
   "outputs": [
    {
     "data": {
      "text/plain": [
       "<matplotlib.axes._subplots.AxesSubplot at 0x7f23ae1c6cf8>"
      ]
     },
     "execution_count": 69,
     "metadata": {},
     "output_type": "execute_result"
    },
    {
     "data": {
      "image/png": "[encoded data removed]",
      "text/plain": [
       "<Figure size 432x288 with 1 Axes>"
      ]
     },
     "metadata": {
      "needs_background": "light"
     },
     "output_type": "display_data"
    }
   ],
   "source": [
    "# Effect of features normalization\n",
    "dataset_no_sp = dataset.drop(columns=\"species_name\")\n",
    "x = dataset_no_sp.values #returns a numpy array\n",
    "min_max_scaler = preprocessing.MinMaxScaler()\n",
    "x_scaled = min_max_scaler.fit_transform(x)\n",
    "dataset_norm = pd.DataFrame(x_scaled)\n",
    "dataset_norm.boxplot()"
   ]
  },
  {
   "cell_type": "code",
   "execution_count": 33,
   "metadata": {},
   "outputs": [
    {
     "data": {
      "image/png": "[encoded data removed]",
      "text/plain": [
       "<Figure size 720x720 with 1 Axes>"
      ]
     },
     "metadata": {
      "needs_background": "light"
     },
     "output_type": "display_data"
    }
   ],
   "source": [
    "def get_species_list(df):\n",
    "    return df[\"species_name\"].tolist()\n",
    "\n",
    "def get_occurrence_count(item_list):\n",
    "    item_count = []\n",
    "    unique_items = unique(item_list)\n",
    "    for item in unique_items:\n",
    "        item_count.append(item_list.count(item))\n",
    "    return item_count\n",
    "\n",
    "def unique(item_list):\n",
    "    unique_list = []\n",
    "    for item in item_list:\n",
    "        if item not in unique_list:\n",
    "            unique_list.append(item)\n",
    "    return unique_list\n",
    "\n",
    "def plot_coordenates_count(occurrence_count, species_name, path_to_plot):\n",
    "    \"\"\"\n",
    "    Plot number of coordenates per class.\n",
    "    \"\"\"\n",
    "    occurrence_count = list(reversed(occurrence_count))\n",
    "    species_name = list(reversed(species_name))\n",
    "    plt.figure(figsize=(10,10)) \n",
    "    plt.barh(species_name, occurrence_count, color=\"#7cd9b7\", height=0.8, edgecolor=\"grey\")\n",
    "    plt.title(\"Number of georeferences per class\")\n",
    "    # x axis, species\n",
    "    xint = range(0,(max(occurrence_count)+1),10)\n",
    "    plt.xticks(xint)\n",
    "    plt.xlabel(\"Number of georeferences\")\n",
    "    # y axis, image count\n",
    "    plt.ylabel(\"Species\", rotation=\"vertical\")\n",
    "    plt.yticks(fontsize=8)\n",
    "    # save file\n",
    "    plt.savefig(path_to_plot)\n",
    "\n",
    "species_name = unique(get_species_list(dataset))\n",
    "occurrence_count = get_occurrence_count(get_species_list(dataset))   \n",
    "plot_coordenates_count(occurrence_count, species_name, os.path.join(save_dir, \"occurrences_per_class.png\"))"
   ]
  },
  {
   "cell_type": "markdown",
   "metadata": {},
   "source": [
    "There is class imbalance. I suggest eliminating Pyrus cordata class."
   ]
  },
  {
   "cell_type": "code",
   "execution_count": 45,
   "metadata": {
    "scrolled": false
   },
   "outputs": [
    {
     "name": "stderr",
     "output_type": "stream",
     "text": [
      "No handles with labels found to put in legend.\n"
     ]
    },
    {
     "data": {
      "image/png": "[encoded data removed]",
      "text/plain": [
       "<Figure size 576x576 with 2 Axes>"
      ]
     },
     "metadata": {
      "needs_background": "light"
     },
     "output_type": "display_data"
    }
   ],
   "source": [
    "def column_to_list(df, column):\n",
    "    \"\"\"\n",
    "    Return a list of elements of column from a data frame.\n",
    "    Args.: a dataframe and a name of a column.\n",
    "    \"\"\"\n",
    "    try:\n",
    "        return df[column].tolist()\n",
    "    except:\n",
    "        print(f\"Unable to extract {column} from {df}.\")\n",
    "\n",
    "def plot_coordinates_frequency(coordinates_df, destination_path):\n",
    "    \"\"\"\n",
    "    Return an histogram with the frequency of the coordinates.\n",
    "    Arg.: a data frame with latitude and longitude\n",
    "    \"\"\"\n",
    "    latitude = column_to_list(coordinates_df, \"latitude\")\n",
    "    longitude = column_to_list(coordinates_df, \"longitude\")\n",
    "    fig, ax = plt.subplots(nrows=2, ncols=1, sharex=True, sharey=True, figsize=(8, 8))\n",
    "    #fig, axs = plt.subplots(2)\n",
    "    fig.suptitle('Coordinates distribution')\n",
    "    plt.subplot(2,1,1)\n",
    "    plt.hist(latitude, bins = 80, alpha = 0.5, \n",
    "             color=\"lightgreen\", \n",
    "             edgecolor=\"grey\")\n",
    "    plt.ylabel(\"Frequency\", fontsize=8)\n",
    "    plt.xlabel(\"Latitude (decimal degrees)\", fontsize=8)\n",
    "    plt.xticks(fontsize=8)\n",
    "    plt.yticks(fontsize=8)\n",
    "    plt.subplot(2,1,2)\n",
    "    plt.hist(longitude, bins = 80, alpha = 0.5, \n",
    "            color=\"lightpink\", \n",
    "            edgecolor=\"grey\")\n",
    "    plt.ylabel(\"Frequency\", fontsize=8)\n",
    "    plt.xlabel(\"Longitude (decimal degrees)\", fontsize=8)\n",
    "    plt.xticks(fontsize=8)\n",
    "    plt.yticks(fontsize=8)\n",
    "    plt.legend()\n",
    "    plt.savefig(destination_path)\n",
    "    \n",
    "plot_coordinates_frequency(dataset,os.path.join(save_dir, \"histogram.png\"))"
   ]
  },
  {
   "cell_type": "code",
   "execution_count": 19,
   "metadata": {},
   "outputs": [
    {
     "name": "stderr",
     "output_type": "stream",
     "text": [
      "/home/sciapps/Documents/Repos/tfm/env/lib/python3.6/site-packages/pyproj/crs/crs.py:53: FutureWarning: '+init=<authority>:<code>' syntax is deprecated. '<authority>:<code>' is the preferred initialization method. When making the change, be mindful of axis order changes: https://pyproj4.github.io/pyproj/stable/gotchas.html#axis-order-changes-in-proj-6\n",
      "  return _prepare_from_string(\" \".join(pjargs))\n"
     ]
    },
    {
     "data": {
      "image/png": "[encoded data removed]",
      "text/plain": [
       "<Figure size 720x720 with 1 Axes>"
      ]
     },
     "metadata": {
      "needs_background": "light"
     },
     "output_type": "display_data"
    }
   ],
   "source": [
    "# UK map\n",
    "shape_file = os.path.join(local_path,\"data/geodata/uk_maps/GBR_adm0.shp\") # UK map\n",
    "\n",
    "def plot_occurrences_map(coordinates_df, shape_file, destination_path):\n",
    "    \"\"\"\n",
    "    Return an occurrences map in .png format.\n",
    "    Args.: a shape file for a geographical area\n",
    "    and a dataframe with at least two columns:\n",
    "    - latitude\n",
    "    - longitde\n",
    "    and a path where to save the map.    \n",
    "    \"\"\"\n",
    "    # Add a new column to the data frame with a combination of coordinates\n",
    "    coordinate_pair = [Point(xy) for xy in zip(coordinates_df.longitude, coordinates_df.latitude)]\n",
    "    coordinates_df['geometry'] = coordinate_pair\n",
    "    coordinates_df.drop(['latitude','longitude'], axis = 1, inplace=True)\n",
    "    crs = {'init': 'epsg:4326'}\n",
    "    occurrences_loc = gpd.GeoDataFrame(coordinates_df, crs=crs, geometry=coordinate_pair)\n",
    "    occurrences_loc.shape\n",
    " \n",
    "    shape_map = gpd.read_file(shape_file)\n",
    "    fig, ax = plt.subplots(figsize = (10,10))\n",
    "    occurrences_loc.geometry.plot(marker=\"d\", color=\"green\", markersize=1, ax=ax, label = \"Species occurrences\")\n",
    "    shape_map.plot(color=\"grey\", ax=ax, alpha = 0.2)\n",
    "   \n",
    "    plt.title('Species distribution map')\n",
    "    plt.legend()\n",
    "    plt.savefig(destination_path)\n",
    "    \n",
    "plot_occurrences_map(dataset, shape_file,os.path.join(save_dir, \"occurrences_map.png\"))"
   ]
  },
  {
   "cell_type": "code",
   "execution_count": 20,
   "metadata": {},
   "outputs": [
    {
     "name": "stdout",
     "output_type": "stream",
     "text": [
      "43 classes in dataset.\n",
      "Classes names: ['Frangula alnus', 'Prunus spinosa', 'Tilia cordata', 'Prunus padus', 'Betula pubescens', 'Acer campestre', 'Quercus robur', 'Buxus sempervirens', 'Malus sylvestris', 'Sorbus rupicola', 'Carpinus betulus', 'Sorbus aucuparia', 'Tilia x europaea', 'Salix pentandra', 'Ilex aquifolium', 'Fraxinus excelsior', 'Corylus avellana', 'Betula pendula', 'Sorbus torminalis', 'Quercus petraea', 'Populus nigra', 'Salix caprea', 'Crataegus monogyna', 'Euonymus europaea', 'Alnus glutinosa', 'Salix cinerea subsp. oleifolia', 'Salix viminalis', 'Ulmus glabra', 'Crataegus laevigata', 'Pyrus cordata', 'Tilia platyphyllos', 'Rhamnus cathartica', 'Juniperus communis', 'Fagus sylvatica', 'Sambucus nigra', 'Ulmus procera', 'Populus tremula', 'Cornus sanguinea', 'Pinus sylvestris', 'Viburnum opulus', 'Taxus baccata', 'Prunus avium', 'Salix fragilis']\n"
     ]
    }
   ],
   "source": [
    "# LABELS\n",
    "class_names = list(set(column_to_list(dataset, \"species_name\")))\n",
    "print(f\"{len(class_names)} classes in dataset.\")\n",
    "print(f\"Classes names: {class_names}\")"
   ]
  },
  {
   "cell_type": "code",
   "execution_count": 21,
   "metadata": {},
   "outputs": [
    {
     "ename": "NameError",
     "evalue": "name 'redirect_stdout' is not defined",
     "output_type": "error",
     "traceback": [
      "\u001b[0;31m---------------------------------------------------------------------------\u001b[0m",
      "\u001b[0;31mNameError\u001b[0m                                 Traceback (most recent call last)",
      "\u001b[0;32m<ipython-input-21-01e2207810b2>\u001b[0m in \u001b[0;36m<module>\u001b[0;34m\u001b[0m\n\u001b[1;32m      8\u001b[0m \u001b[0;31m# Save model description\u001b[0m\u001b[0;34m\u001b[0m\u001b[0;34m\u001b[0m\u001b[0;34m\u001b[0m\u001b[0m\n\u001b[1;32m      9\u001b[0m \u001b[0;32mwith\u001b[0m \u001b[0mopen\u001b[0m\u001b[0;34m(\u001b[0m\u001b[0mos\u001b[0m\u001b[0;34m.\u001b[0m\u001b[0mpath\u001b[0m\u001b[0;34m.\u001b[0m\u001b[0mjoin\u001b[0m\u001b[0;34m(\u001b[0m\u001b[0msave_dir\u001b[0m\u001b[0;34m,\u001b[0m\u001b[0;34m\"model_description.txt\"\u001b[0m\u001b[0;34m)\u001b[0m\u001b[0;34m,\u001b[0m \u001b[0;34m\"w\"\u001b[0m\u001b[0;34m)\u001b[0m \u001b[0;32mas\u001b[0m \u001b[0mfile\u001b[0m\u001b[0;34m:\u001b[0m\u001b[0;34m\u001b[0m\u001b[0;34m\u001b[0m\u001b[0m\n\u001b[0;32m---> 10\u001b[0;31m     \u001b[0;32mwith\u001b[0m \u001b[0mredirect_stdout\u001b[0m\u001b[0;34m(\u001b[0m\u001b[0mfile\u001b[0m\u001b[0;34m)\u001b[0m\u001b[0;34m:\u001b[0m\u001b[0;34m\u001b[0m\u001b[0;34m\u001b[0m\u001b[0m\n\u001b[0m\u001b[1;32m     11\u001b[0m         \u001b[0mprint\u001b[0m\u001b[0;34m(\u001b[0m\u001b[0mmodel_description\u001b[0m\u001b[0;34m)\u001b[0m\u001b[0;34m\u001b[0m\u001b[0;34m\u001b[0m\u001b[0m\n",
      "\u001b[0;31mNameError\u001b[0m: name 'redirect_stdout' is not defined"
     ]
    }
   ],
   "source": [
    "# EDIT FOR EACH MODEL\n",
    "# Model description\n",
    "model_description = f\"\"\"\n",
    "{model_name}\n",
    "\n",
    "\"\"\"\n",
    "\n",
    "# Save model description\n",
    "with open(os.path.join(save_dir,\"model_description.txt\"), \"w\") as file:\n",
    "    with redirect_stdout(file):\n",
    "        print(model_description)"
   ]
  },
  {
   "cell_type": "markdown",
   "metadata": {},
   "source": [
    "## Retrieving the data from the dataset "
   ]
  },
  {
   "cell_type": "code",
   "execution_count": 22,
   "metadata": {},
   "outputs": [
    {
     "data": {
      "text/plain": [
       "{'Acer campestre': 0,\n",
       " 'Alnus glutinosa': 1,\n",
       " 'Betula pendula': 2,\n",
       " 'Betula pubescens': 3,\n",
       " 'Buxus sempervirens': 4,\n",
       " 'Carpinus betulus': 5,\n",
       " 'Cornus sanguinea': 6,\n",
       " 'Corylus avellana': 7,\n",
       " 'Crataegus laevigata': 8,\n",
       " 'Crataegus monogyna': 9,\n",
       " 'Euonymus europaea': 10,\n",
       " 'Fagus sylvatica': 11,\n",
       " 'Frangula alnus': 12,\n",
       " 'Fraxinus excelsior': 13,\n",
       " 'Ilex aquifolium': 14,\n",
       " 'Juniperus communis': 15,\n",
       " 'Malus sylvestris': 16,\n",
       " 'Pinus sylvestris': 17,\n",
       " 'Populus nigra': 18,\n",
       " 'Populus tremula': 19,\n",
       " 'Prunus avium': 20,\n",
       " 'Prunus padus': 21,\n",
       " 'Prunus spinosa': 22,\n",
       " 'Pyrus cordata': 23,\n",
       " 'Quercus petraea': 24,\n",
       " 'Quercus robur': 25,\n",
       " 'Rhamnus cathartica': 26,\n",
       " 'Salix caprea': 27,\n",
       " 'Salix cinerea subsp. oleifolia': 28,\n",
       " 'Salix fragilis': 29,\n",
       " 'Salix pentandra': 30,\n",
       " 'Salix viminalis': 31,\n",
       " 'Sambucus nigra': 32,\n",
       " 'Sorbus aucuparia': 33,\n",
       " 'Sorbus rupicola': 34,\n",
       " 'Sorbus torminalis': 35,\n",
       " 'Taxus baccata': 36,\n",
       " 'Tilia cordata': 37,\n",
       " 'Tilia platyphyllos': 38,\n",
       " 'Tilia x europaea': 39,\n",
       " 'Ulmus glabra': 40,\n",
       " 'Ulmus procera': 41,\n",
       " 'Viburnum opulus': 42}"
      ]
     },
     "execution_count": 22,
     "metadata": {},
     "output_type": "execute_result"
    }
   ],
   "source": [
    "# Encode class names\n",
    "class_names.sort()\n",
    "species_to_number = {species_name:class_names.index(species_name) for species_name in class_names}\n",
    "species_to_number"
   ]
  },
  {
   "cell_type": "code",
   "execution_count": 23,
   "metadata": {
    "scrolled": false
   },
   "outputs": [
    {
     "name": "stdout",
     "output_type": "stream",
     "text": [
      "[[53.523295 -2.630142  1.      ]\n",
      " [53.037265 -0.825083  1.      ]\n",
      " [53.778151 -2.215379  1.      ]\n",
      " ...\n",
      " [53.63715  -2.836575 36.      ]\n",
      " [51.467652 -2.627267 36.      ]\n",
      " [51.574292 -0.919192 36.      ]]\n",
      "[[0. 1. 0. ... 0. 0. 0.]\n",
      " [0. 1. 0. ... 0. 0. 0.]\n",
      " [0. 1. 0. ... 0. 0. 0.]\n",
      " ...\n",
      " [0. 0. 0. ... 0. 0. 0.]\n",
      " [0. 0. 0. ... 0. 0. 0.]\n",
      " [0. 0. 0. ... 0. 0. 0.]]\n"
     ]
    }
   ],
   "source": [
    "dataset['species_num']=dataset.apply(lambda r:species_to_number[r.species_name],axis=1)\n",
    "X = dataset.iloc[:, 1:4].values  # features\n",
    "y = dataset.iloc[:, 3].values    # to predict\n",
    "# one hot encode output variable\n",
    "y = to_categorical(y)\n",
    "print(X)\n",
    "print(y)"
   ]
  },
  {
   "cell_type": "code",
   "execution_count": 40,
   "metadata": {},
   "outputs": [],
   "source": [
    "X_train, X_test, y_train, y_test = train_test_split(X, y, test_size = 0.2, random_state = 0)"
   ]
  },
  {
   "cell_type": "markdown",
   "metadata": {},
   "source": [
    "## Data normalization"
   ]
  },
  {
   "cell_type": "code",
   "execution_count": 59,
   "metadata": {},
   "outputs": [
    {
     "data": {
      "text/plain": [
       "array([[ 0.80464109, -0.0458153 ,  0.59199128],\n",
       "       [ 0.85678859, -0.0457852 ,  0.51363122],\n",
       "       [ 0.82229437, -0.04401072,  0.56735794],\n",
       "       ...,\n",
       "       [ 0.99070775, -0.04571682,  0.12809421],\n",
       "       [ 0.84608643, -0.0336454 ,  0.53198284],\n",
       "       [ 0.85756659, -0.08298514,  0.50763472]])"
      ]
     },
     "execution_count": 59,
     "metadata": {},
     "output_type": "execute_result"
    }
   ],
   "source": [
    "X_train_norm = normalize(X_train)\n",
    "X_train_norm"
   ]
  },
  {
   "cell_type": "code",
   "execution_count": 60,
   "metadata": {},
   "outputs": [
    {
     "data": {
      "text/plain": [
       "array([[0., 0., 0., ..., 0., 0., 0.],\n",
       "       [0., 0., 0., ..., 0., 0., 0.],\n",
       "       [0., 0., 0., ..., 0., 0., 0.],\n",
       "       ...,\n",
       "       [0., 0., 0., ..., 0., 0., 0.],\n",
       "       [0., 0., 0., ..., 0., 0., 0.],\n",
       "       [0., 0., 0., ..., 0., 0., 0.]], dtype=float32)"
      ]
     },
     "execution_count": 60,
     "metadata": {},
     "output_type": "execute_result"
    }
   ],
   "source": [
    "y_train_norm = normalize(y_train)\n",
    "y_train_norm"
   ]
  },
  {
   "cell_type": "markdown",
   "metadata": {},
   "source": [
    "## Creating and training the model"
   ]
  },
  {
   "cell_type": "markdown",
   "metadata": {},
   "source": [
    "### Model network architecture\n",
    "\n",
    "The simplest network architecture constists of 3 layers:\n",
    "\n",
    "- Input layer, with a number of nodes equal to the number of features in the model.\n",
    "- Hidden layer, with a variable number of nodes. \n",
    "- Output layer, with a number of nodes equal to the number of classes. "
   ]
  },
  {
   "cell_type": "markdown",
   "metadata": {},
   "source": [
    "#### The hidden layers\n",
    "\n",
    "The hidden layers can have different characteristics depending of their use. \n",
    "The transformations applied by the convolutional layers have shown the best results for image classification, so they will be the main component in this model.\n",
    "\n",
    "\n",
    "##### The fully connected layer\n",
    "\n",
    "A fully connected layer is an all purpose layer where each node receive the inputs from all the nodes from the previous layer, multiplied by their weights, sumed and transformed by the activation funcion.\n",
    "\n",
    "In keras, the fully connected layer is called `Dense`.\n",
    "\n"
   ]
  },
  {
   "cell_type": "markdown",
   "metadata": {},
   "source": [
    "### Creating the model with `Keras`\n",
    "\n",
    "In `Keras` the model is defined with the `Sequential` method as a linear stack ot layers. The **input layer** is implicit in the first layer (a network with 3 layers will have 2 in `keras Sequential` method).\n",
    "\n",
    "The **input shape** is into the first layer. The model inputs are the tensors or arrays. Images have 3 dimensions: **width**, **height** and **channels**. The width and the height are measured in pixels and the channels reference the color values (the channel value is 1 if it is in black and white and 3 if it is color in RGB (Red, Green, blue) or HSV (hue, saturation, value) formats - 2 and 4 are black and white or color with an alpha channel (transparency). \n",
    "\n",
    "The **activation function** that has to be specified in each layer transforms the input data so that the output doen't have a linear relation with the input. "
   ]
  },
  {
   "cell_type": "markdown",
   "metadata": {},
   "source": [
    "### Transfer learning with `Keras`\n",
    "\n",
    "Aim: to use a pre-existing model that has performed well carrying out a similar task. \n",
    "\n",
    "\n",
    "#### VGG16\n",
    "\n",
    "Ref: 2014 ImageNet competition\n"
   ]
  },
  {
   "cell_type": "markdown",
   "metadata": {},
   "source": [
    "### Training the model"
   ]
  },
  {
   "cell_type": "markdown",
   "metadata": {},
   "source": [
    "The parameters from the model above represent the **weights**. \n",
    "A weight is a number that multiplies the value of the **input node** before passing it to the **output node** in the next layer. \n",
    "An output node receive the values from each of the input nodes multiplied by their weights, after they have been sumed and transformed by the **activation function**.\n",
    "\n",
    "\n",
    "Training the model means to adjust the values of the weights in the subsequent runs (the **epochs**. In every run, the weights are modified based on an optimization algorithm or **optimizer**.\n",
    "This algorithm tries to minimize the **loss function**. In every run, the model predicts the classes with a certain probability. The loss function measures, through that probability, the error of the predictions. In this context, the **gradient** is the computation of the error in relation to the weight (it is the derivative of the error divided into the derivative of the weight). The gradient is multiplied by a **learning rate** to obtain the new weights. The value of the learning rate is in the order of 10^-3.\n",
    "\n",
    "**Stocastic gradient descent** (sgd) is one type of optimizer. There are also different types of loss functions, like the **sparse categorical crossentropy**. The value of the optimizer "
   ]
  },
  {
   "cell_type": "markdown",
   "metadata": {},
   "source": [
    "#### Configuration\n",
    "\n",
    "- Epoch: the number of iterations through the network in order to adjust the weights. In general, the higher number of epochs, the better the performance, up to a limit. \n",
    "- Batch size: the number of examples passed at a time. If the batch size is equal to the number of examples in the training dataset, then we have one batch per epoch. This is computationally costly and may be limited by the machine power. If the batch size is smaller, then there would be several runs per epoch. If it is too small, the training may be too slow.  "
   ]
  },
  {
   "cell_type": "markdown",
   "metadata": {},
   "source": [
    "### Evaluating the model training"
   ]
  },
  {
   "cell_type": "markdown",
   "metadata": {},
   "source": [
    "#### Accuracy and loss during training"
   ]
  },
  {
   "cell_type": "code",
   "execution_count": null,
   "metadata": {},
   "outputs": [],
   "source": [
    "# Parameters measured during model training\n",
    "history_dict = history.history\n",
    "print(history_dict.keys())"
   ]
  },
  {
   "cell_type": "code",
   "execution_count": null,
   "metadata": {},
   "outputs": [],
   "source": [
    "try:\n",
    "    acc = history_dict[\"acc\"]\n",
    "    val_acc = history_dict[\"val_acc\"]\n",
    "    loss = history_dict[\"loss\"]\n",
    "    val_loss = history_dict[\"val_loss\"]\n",
    "except:\n",
    "    try:\n",
    "        acc = history_dict[\"accuracy\"]\n",
    "        val_acc = history_dict[\"val_accuracy\"]\n",
    "        loss = history_dict[\"loss\"]\n",
    "        val_loss = history_dict[\"val_loss\"]\n",
    "    except:\n",
    "        pass        "
   ]
  },
  {
   "cell_type": "code",
   "execution_count": null,
   "metadata": {
    "scrolled": false
   },
   "outputs": [],
   "source": [
    "def plot_acc_loss(acc,val_acc,loss,val_loss,epochs):\n",
    "    epochs_range = range(epochs)\n",
    "    plt.figure(figsize=(8, 8))\n",
    "    plt.suptitle(model_name)\n",
    "    # Accuracy plots\n",
    "    plt.subplot(1, 2, 1)\n",
    "    plt.plot(epochs_range, acc, label=\"Training Accuracy\")\n",
    "    plt.plot(epochs_range, val_acc, label=\"Validation Accuracy\")\n",
    "    plt.legend(loc=\"lower right\")\n",
    "    plt.xlabel(\"Epochs\")\n",
    "    plt.ylabel(\"Accuracy\")\n",
    "    plt.title(\"Training and Validation Accuracy\")\n",
    "    # Loss plots\n",
    "    plt.subplot(1, 2, 2)\n",
    "    plt.plot(epochs_range, loss, label=\"Training Loss\") \n",
    "    plt.plot(epochs_range, val_loss, label=\"Validation Loss\")\n",
    "    plt.legend(loc=\"upper right\")\n",
    "    plt.title(\"Training and Validation Loss\")\n",
    "    plt.ylabel(\"Loss\")\n",
    "    plt.xlabel(\"Epochs\")\n",
    "    plt.savefig(os.path.join(save_dir,\"acc_loss_plot.png\"))\n",
    "    plt.show()"
   ]
  },
  {
   "cell_type": "code",
   "execution_count": null,
   "metadata": {},
   "outputs": [],
   "source": [
    "plot_acc_loss(acc,val_acc,loss,val_loss,epochs)"
   ]
  },
  {
   "cell_type": "markdown",
   "metadata": {},
   "source": [
    "#### Overfitting\n",
    "\n",
    "When the model predicts significantly better the training set than the validation set, it is a sign of overfitting. "
   ]
  },
  {
   "cell_type": "markdown",
   "metadata": {},
   "source": [
    "### Reuse model outputs"
   ]
  },
  {
   "cell_type": "markdown",
   "metadata": {},
   "source": [
    "To load the model again, it has to be built and then the weights added:\n",
    "\n",
    "```\n",
    "# load pre-trained model with the weights\n",
    "vgg16_model = tf.keras.applications.VGG16()\n",
    "# Add the layers of vgg16 model to a new sequential model \n",
    "model = Sequential()\n",
    "for layer in vgg16_model.layers[:-1]: # remove last layer\n",
    "    model.add(layer)\n",
    "# Freeze the weights in the layers\n",
    "for layer in model.layers:\n",
    "    layer.trainable = False\n",
    "# Add last layer for categories\n",
    "model.add(Dense(len(class_names), activation = \"softmax\"))  \n",
    "\n",
    "cnn.load_weights(os.path.join(save_dir, \"model.h5\"))\n",
    "```"
   ]
  },
  {
   "cell_type": "markdown",
   "metadata": {},
   "source": [
    "To get back the accuracy and loss data:\n",
    "\n",
    "- Open the CSV with the model history.\n",
    "- Save it to a dictionary.\n",
    "\n",
    "```\n",
    "history_df = pd.read_csv(os.path.join(save_dir, \"model_history.csv\"))\n",
    "history_dict = history_df.to_dict()\n",
    "try: # the key names vary across tf versions\n",
    "    acc = np.array(list(history_dict[\"acc\"].values()))\n",
    "    val_acc = np.array(list(history_dict[\"val_acc\"].values()))\n",
    "    loss = np.array(list(history_dict[\"loss\"].values()))\n",
    "    val_loss = np.array(list(history_dict[\"val_loss\"].values()))\n",
    "    epochs_range = np.array(range(epochs))\n",
    "except:\n",
    "    try:\n",
    "        acc = np.array(list(history_dict[\"accuracy\"].values()))\n",
    "        val_acc = np.array(list(history_dict[\"val_accuracy\"].values()))\n",
    "        loss = np.array(list(history_dict[\"loss\"].values()))\n",
    "        val_loss = np.array(list(history_dict[\"val_loss\"].values()))\n",
    "        epochs_range = np.array(range(epochs))\n",
    "    except:\n",
    "        pass\n",
    "plot_acc_loss(acc,val_acc,loss,val_loss,epochs)\n",
    "```"
   ]
  },
  {
   "cell_type": "markdown",
   "metadata": {},
   "source": [
    "## Evaluating the model"
   ]
  },
  {
   "cell_type": "markdown",
   "metadata": {},
   "source": [
    "### Get the test dataset"
   ]
  },
  {
   "cell_type": "code",
   "execution_count": null,
   "metadata": {},
   "outputs": [],
   "source": [
    "def test_labels_to_index(test_labels, class_names):\n",
    "    \"\"\"\n",
    "    Return a 1D array of integers with the corresponding\n",
    "    number for a class.\n",
    "    Args.: - A list with the class name of each item in \n",
    "          the test data set.\n",
    "           - A sorted list with the possible class names. \n",
    "    Eg.: test_labels[1] = \"Buxus_sempervirens\" corresponds to index 4\n",
    "         in the list of class names.\n",
    "    \"\"\"\n",
    "    test_labels_index = []\n",
    "    for i in range(len(test_labels)):\n",
    "        ind = class_names.index(test_labels[i])\n",
    "        test_labels_index.append(ind)\n",
    "    return np.array(test_labels_index)"
   ]
  },
  {
   "cell_type": "code",
   "execution_count": null,
   "metadata": {},
   "outputs": [],
   "source": [
    "test_files = os.listdir(test_dir)\n",
    "test_labels = get_test_labels(test_files)\n",
    "test_labels[:5]"
   ]
  },
  {
   "cell_type": "code",
   "execution_count": null,
   "metadata": {},
   "outputs": [],
   "source": [
    "test_labels_index = test_labels_to_index(test_labels, class_names)\n",
    "test_labels_index[:5]"
   ]
  },
  {
   "cell_type": "markdown",
   "metadata": {},
   "source": [
    "### Predict the probability of classifiying each class"
   ]
  },
  {
   "cell_type": "code",
   "execution_count": null,
   "metadata": {},
   "outputs": [],
   "source": [
    "# Get the probability of predicting each class for each image\n",
    "predictions = model.predict_generator(test_array,steps=1,verbose=1)"
   ]
  },
  {
   "cell_type": "markdown",
   "metadata": {},
   "source": [
    "Predictions is a 2D array with a shape: (number of examples in test, number of classes)"
   ]
  },
  {
   "cell_type": "code",
   "execution_count": null,
   "metadata": {},
   "outputs": [],
   "source": [
    "predictions.shape"
   ]
  },
  {
   "cell_type": "code",
   "execution_count": null,
   "metadata": {},
   "outputs": [],
   "source": [
    "# Get predicted class for each example\n",
    "def predicted_class(predictions):\n",
    "    \"\"\"\n",
    "    Return a 1D array with the predicted class for each example.\n",
    "    Arg.: 2D array predictions of shape (number of examples, number of classes)\n",
    "    \"\"\"\n",
    "    pred_class = []\n",
    "    for i in range(len(predictions)):\n",
    "        higher_prob = max(predictions[i])\n",
    "        ind, = np.where(np.isclose(predictions[i], higher_prob))\n",
    "        pred_class.append(ind[0])\n",
    "    return np.array(pred_class)\n",
    "\n",
    "pred_class = predicted_class(predictions)"
   ]
  },
  {
   "cell_type": "markdown",
   "metadata": {},
   "source": [
    "### Plot the confussion matrix"
   ]
  },
  {
   "cell_type": "code",
   "execution_count": null,
   "metadata": {},
   "outputs": [],
   "source": [
    "test_labels_index"
   ]
  },
  {
   "cell_type": "code",
   "execution_count": null,
   "metadata": {},
   "outputs": [],
   "source": [
    "pred_class"
   ]
  },
  {
   "cell_type": "code",
   "execution_count": null,
   "metadata": {},
   "outputs": [],
   "source": [
    "# Build the confusion matrix\n",
    "cm = tf.math.confusion_matrix(test_labels_index, pred_class) \n",
    "# Convert from tensor to array\n",
    "sess = tf.Session()\n",
    "conf_mat = sess.run(cm)\n",
    "conf_mat"
   ]
  },
  {
   "cell_type": "code",
   "execution_count": null,
   "metadata": {},
   "outputs": [],
   "source": [
    "def plot_confusion_matrix(cm, class_names, model_name):\n",
    "    \"\"\"\n",
    "    Returns a matplotlib figure containing the plotted confusion matrix.\n",
    "\n",
    "    Args:\n",
    "    cm (array, shape = [n, n]): a confusion matrix of integer classes\n",
    "    class_names (array, shape = [n]): String names of the integer classes\n",
    "    \"\"\"\n",
    "    figure = plt.figure(figsize=(20, 20))\n",
    "    plt.imshow(cm, interpolation='nearest', cmap=plt.cm.BuGn)\n",
    "    plt.title(\"Confusion matrix - \"+ model_name, fontsize = 22)\n",
    "    plt.colorbar()\n",
    "    tick_marks = np.arange(len(class_names))\n",
    "    plt.xticks(tick_marks, class_names, rotation=90)\n",
    "    plt.yticks(tick_marks, class_names)\n",
    "    plt.savefig(os.path.join(save_dir,\"conf_matrix.png\"))\n"
   ]
  },
  {
   "cell_type": "code",
   "execution_count": null,
   "metadata": {},
   "outputs": [],
   "source": [
    "plot_confusion_matrix(conf_mat, np.array(class_names), model_name)"
   ]
  }
 ],
 "metadata": {
  "kernelspec": {
   "display_name": "Python 3",
   "language": "python",
   "name": "python3"
  },
  "language_info": {
   "codemirror_mode": {
    "name": "ipython",
    "version": 3
   },
   "file_extension": ".py",
   "mimetype": "text/x-python",
   "name": "python",
   "nbconvert_exporter": "python",
   "pygments_lexer": "ipython3",
   "version": "3.6.9"
  }
 },
 "nbformat": 4,
 "nbformat_minor": 2
}
